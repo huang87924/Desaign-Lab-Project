{
 "cells": [
  {
   "cell_type": "code",
   "execution_count": null,
   "metadata": {},
   "outputs": [],
   "source": []
  },
  {
   "cell_type": "code",
   "execution_count": 8,
   "metadata": {},
   "outputs": [],
   "source": [
    "from pynytimes import NYTAPI\n",
    "import datetime\n",
    "from newspaper import Article\n",
    "import requests\n",
    "import pandas as pd\n",
    "import time\n",
    "api_key=\"2z5QXdWZFM4Qe9scDJm12YzOiJvaj357\"\n",
    "api_key1='Vmyj1hoceXUZMw69FVT4qpXKdyS1NoBd'\n",
    "nyt = NYTAPI(api_key)\n",
    "def get_all_comments(api_key, nyt_article):\n",
    "        '''\n",
    "        Input:\n",
    "        api_key = Your API KEY (string)\n",
    "        nyt_article = link to the nyt article that has comments (string)\n",
    "        Output:\n",
    "        Pandas DataFame\n",
    "        This function will extract all the comments out of a NYT article, and stores it in a DataFrame\n",
    "        '''\n",
    "        import time\n",
    "        #set offset to 0\n",
    "        offset = 0\n",
    "\n",
    "        #At some point the json_data['results']['comments'] will return an empty list\n",
    "        comment_body_check = ['test']\n",
    "\n",
    "        #empty dataframe to store data\n",
    "        comment_df = pd.DataFrame()\n",
    "\n",
    "        while comment_body_check != []:\n",
    "\n",
    "             #URL for scraping data\n",
    "            request_url = f'https://api.nytimes.com/svc/community/v3/user-content/url.json?api-key={api_key}&offset={offset}&url={nyt_article}'\n",
    "            #Get data\n",
    "            r = requests.get(request_url)\n",
    "\n",
    "            #Conver to JSON\n",
    "            json_data = r.json()\n",
    "\n",
    "            #Single out the comment section, it becomes a list\n",
    "            comment_json = json_data['results']['comments']\n",
    "\n",
    "            comment_body_check = comment_json\n",
    "\n",
    "            #create list\n",
    "            comment_list = []\n",
    "            df = pd.DataFrame(comment_json, columns = ['commentID',\n",
    "                                                       'userDisplayName',\n",
    "                                                       'userLocation',\n",
    "                                                       'commentBody',\n",
    "                                                       'recommendations',\n",
    "                                                       'replyCount'])                                            \n",
    "\n",
    "            #append 25 scraped commentt\n",
    "            comment_df = comment_df.append(df)\n",
    "            #6 second pause, so that the API doesn't get overwhelmed\n",
    "            time.sleep(4)\n",
    "\n",
    "        #resetting index for a clean output\n",
    "        comment_df.reset_index(inplace = True)\n",
    "\n",
    "        return comment_df\n"
   ]
  },
  {
   "cell_type": "code",
   "execution_count": 9,
   "metadata": {},
   "outputs": [],
   "source": [
    "keywords=['facial recognition Bias','face recognition Bias','Deep learning Bias','Artificial Intelligence Bias','AI Bias','Machine Learning Bias','ML bias'\n",
    "           'Algorithmic bias', 'Algorithm bias','facial recognition discrimination', 'face recognition discrimination','Deep learning discrimination',\n",
    "          'Artificial Intelligence discrimination','AI discrimination','Machine Learning discrimination','ML discrimination',\n",
    "          'Algorithmic discrimination', 'Algorithm discrimination'\n",
    "          ]"
   ]
  },
  {
   "cell_type": "code",
   "execution_count": 37,
   "metadata": {},
   "outputs": [
    {
     "data": {
      "text/plain": [
       "165"
      ]
     },
     "execution_count": 37,
     "metadata": {},
     "output_type": "execute_result"
    }
   ],
   "source": [
    "df_articles = pd.DataFrame()\n",
    "for i in keywords:\n",
    "    articles = nyt.article_search(\n",
    "                query = i,\n",
    "                results = 50,\n",
    "                dates = {\n",
    "                    \"begin\": datetime.datetime(2017,1,1),\n",
    "                    \"end\": datetime.datetime(2017,12,31)\n",
    "                })\n",
    "    df_articles1 = pd.DataFrame.from_dict(articles, orient='columns')\n",
    "    df_articles = df_articles.append(df_articles1)\n",
    "dfweb = df_articles.web_url\n",
    "dfweb = dfweb.drop_duplicates()\n",
    "len(dfweb)"
   ]
  },
  {
   "cell_type": "code",
   "execution_count": 38,
   "metadata": {},
   "outputs": [
    {
     "data": {
      "text/html": [
       "<div>\n",
       "<style scoped>\n",
       "    .dataframe tbody tr th:only-of-type {\n",
       "        vertical-align: middle;\n",
       "    }\n",
       "\n",
       "    .dataframe tbody tr th {\n",
       "        vertical-align: top;\n",
       "    }\n",
       "\n",
       "    .dataframe thead th {\n",
       "        text-align: right;\n",
       "    }\n",
       "</style>\n",
       "<table border=\"1\" class=\"dataframe\">\n",
       "  <thead>\n",
       "    <tr style=\"text-align: right;\">\n",
       "      <th></th>\n",
       "      <th>web_url</th>\n",
       "    </tr>\n",
       "  </thead>\n",
       "  <tbody>\n",
       "    <tr>\n",
       "      <th>0</th>\n",
       "      <td>https://www.nytimes.com/2017/12/21/us/politics...</td>\n",
       "    </tr>\n",
       "    <tr>\n",
       "      <th>1</th>\n",
       "      <td>https://www.nytimes.com/2017/12/02/opinion/sun...</td>\n",
       "    </tr>\n",
       "    <tr>\n",
       "      <th>2</th>\n",
       "      <td>https://www.nytimes.com/2017/08/23/theater/ran...</td>\n",
       "    </tr>\n",
       "    <tr>\n",
       "      <th>3</th>\n",
       "      <td>https://www.nytimes.com/2017/09/09/opinion/sun...</td>\n",
       "    </tr>\n",
       "    <tr>\n",
       "      <th>4</th>\n",
       "      <td>https://www.nytimes.com/2017/08/29/t-magazine/...</td>\n",
       "    </tr>\n",
       "    <tr>\n",
       "      <th>...</th>\n",
       "      <td>...</td>\n",
       "    </tr>\n",
       "    <tr>\n",
       "      <th>160</th>\n",
       "      <td>https://www.nytimes.com/2017/12/19/nyregion/ne...</td>\n",
       "    </tr>\n",
       "    <tr>\n",
       "      <th>161</th>\n",
       "      <td>https://www.nytimes.com/2017/04/05/your-money/...</td>\n",
       "    </tr>\n",
       "    <tr>\n",
       "      <th>162</th>\n",
       "      <td>https://www.nytimes.com/2017/09/20/business/me...</td>\n",
       "    </tr>\n",
       "    <tr>\n",
       "      <th>163</th>\n",
       "      <td>https://www.nytimes.com/2017/01/07/opinion/sun...</td>\n",
       "    </tr>\n",
       "    <tr>\n",
       "      <th>164</th>\n",
       "      <td>https://www.nytimes.com/2017/12/13/technology/...</td>\n",
       "    </tr>\n",
       "  </tbody>\n",
       "</table>\n",
       "<p>165 rows × 1 columns</p>\n",
       "</div>"
      ],
      "text/plain": [
       "                                               web_url\n",
       "0    https://www.nytimes.com/2017/12/21/us/politics...\n",
       "1    https://www.nytimes.com/2017/12/02/opinion/sun...\n",
       "2    https://www.nytimes.com/2017/08/23/theater/ran...\n",
       "3    https://www.nytimes.com/2017/09/09/opinion/sun...\n",
       "4    https://www.nytimes.com/2017/08/29/t-magazine/...\n",
       "..                                                 ...\n",
       "160  https://www.nytimes.com/2017/12/19/nyregion/ne...\n",
       "161  https://www.nytimes.com/2017/04/05/your-money/...\n",
       "162  https://www.nytimes.com/2017/09/20/business/me...\n",
       "163  https://www.nytimes.com/2017/01/07/opinion/sun...\n",
       "164  https://www.nytimes.com/2017/12/13/technology/...\n",
       "\n",
       "[165 rows x 1 columns]"
      ]
     },
     "execution_count": 38,
     "metadata": {},
     "output_type": "execute_result"
    }
   ],
   "source": [
    "dfweb = dfweb.to_frame()\n",
    "dfweb.reset_index(inplace=True,drop=True)\n",
    "dfweb"
   ]
  },
  {
   "cell_type": "code",
   "execution_count": 39,
   "metadata": {},
   "outputs": [],
   "source": [
    "dfweb.to_csv('2017.csv',index=False)"
   ]
  },
  {
   "cell_type": "code",
   "execution_count": null,
   "metadata": {},
   "outputs": [],
   "source": []
  },
  {
   "cell_type": "code",
   "execution_count": 40,
   "metadata": {},
   "outputs": [
    {
     "data": {
      "text/plain": [
       "691"
      ]
     },
     "execution_count": 40,
     "metadata": {},
     "output_type": "execute_result"
    }
   ],
   "source": [
    "df_articles=pd.read_csv('total_url.csv')\n",
    "urllist=df_articles.web_url.tolist()\n",
    "len(urllist)"
   ]
  },
  {
   "cell_type": "code",
   "execution_count": 44,
   "metadata": {},
   "outputs": [
    {
     "name": "stdout",
     "output_type": "stream",
     "text": [
      "5375\n"
     ]
    }
   ],
   "source": [
    "comment_df = pd.DataFrame()\n",
    "offset=[0,25,50,75,100,125,150,175,200]\n",
    "a=0\n",
    "\n",
    "for i in urllist: \n",
    "    for os in offset:\n",
    "        request_url=f'https://api.nytimes.com/svc/community/v3/user-content/url.json?api-key={api_key}&offset={offset}&url={i}'\n",
    "        r = requests.get(request_url)\n",
    "        json_data = r.json()\n",
    "\n",
    "        try:\n",
    "            comment_json = json_data['results']['comments']\n",
    "            comment_body_check = comment_json\n",
    "            df = pd.DataFrame(comment_json, columns = ['commentID',\n",
    "                                                               'userDisplayName',\n",
    "                                                               'userLocation',\n",
    "                                                               'commentBody',\n",
    "                                                               'recommendations',\n",
    "                                                               'replyCount'\n",
    "                                                               ]) \n",
    "            urlindex=urllist.index(i)\n",
    "            if urlindex==0:\n",
    "                df.to_csv('comments.csv',index=False)\n",
    "            else:\n",
    "                df.to_csv(\"comments.csv\", mode='a', index=False, header=False)\n",
    "        except:\n",
    "            a+=1\n",
    "            continue\n",
    "        time.sleep(5)\n",
    "print(a)"
   ]
  },
  {
   "cell_type": "code",
   "execution_count": null,
   "metadata": {},
   "outputs": [],
   "source": []
  }
 ],
 "metadata": {
  "kernelspec": {
   "display_name": "Python 3",
   "language": "python",
   "name": "python3"
  },
  "language_info": {
   "codemirror_mode": {
    "name": "ipython",
    "version": 3
   },
   "file_extension": ".py",
   "mimetype": "text/x-python",
   "name": "python",
   "nbconvert_exporter": "python",
   "pygments_lexer": "ipython3",
   "version": "3.8.5"
  }
 },
 "nbformat": 4,
 "nbformat_minor": 4
}
