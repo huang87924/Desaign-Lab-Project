{
 "cells": [
  {
   "cell_type": "code",
   "execution_count": 1,
   "metadata": {},
   "outputs": [],
   "source": [
    "import tweepy\n",
    "import webbrowser\n",
    "import time"
   ]
  },
  {
   "cell_type": "code",
   "execution_count": 2,
   "metadata": {},
   "outputs": [],
   "source": [
    "consumer_key= \"\"\n",
    "consumer_secret= \"\""
   ]
  },
  {
   "cell_type": "code",
   "execution_count": 3,
   "metadata": {},
   "outputs": [],
   "source": [
    "auth = tweepy.AppAuthHandler(consumer_key,consumer_secret)\n",
    "api = tweepy.API(auth)"
   ]
  },
  {
   "cell_type": "code",
   "execution_count": 4,
   "metadata": {},
   "outputs": [
    {
     "name": "stderr",
     "output_type": "stream",
     "text": [
      "Rate limit reached. Sleeping for: 766\n",
      "Rate limit reached. Sleeping for: 769\n",
      "Rate limit reached. Sleeping for: 758\n",
      "Rate limit reached. Sleeping for: 763\n",
      "Rate limit reached. Sleeping for: 764\n",
      "Rate limit reached. Sleeping for: 774\n",
      "Rate limit reached. Sleeping for: 768\n",
      "Rate limit reached. Sleeping for: 759\n",
      "Rate limit reached. Sleeping for: 758\n",
      "Rate limit reached. Sleeping for: 763\n"
     ]
    }
   ],
   "source": [
    "results = []\n",
    "key_words = ['Algorithmic Bias','bias','trust', 'discrimination', 'error', 'mistake','false']\n",
    "for key_word in key_words:\n",
    "  for i,tweet in enumerate(tweepy.Cursor(api.search, q=key_word, wait_on_rate_limit=True, wait_on_rate_limit_notify=True, lang='en').items(10000)):\n",
    "      result = [tweet.text, tweet.favorite_count, tweet.retweet_count]\n",
    "      results.append(result)"
   ]
  },
  {
   "cell_type": "code",
   "execution_count": 5,
   "metadata": {},
   "outputs": [
    {
     "data": {
      "text/plain": [
       "60828"
      ]
     },
     "execution_count": 5,
     "metadata": {},
     "output_type": "execute_result"
    }
   ],
   "source": [
    "len(results)"
   ]
  },
  {
   "cell_type": "code",
   "execution_count": 6,
   "metadata": {},
   "outputs": [],
   "source": [
    "import pandas as pd"
   ]
  },
  {
   "cell_type": "code",
   "execution_count": 7,
   "metadata": {},
   "outputs": [],
   "source": [
    "df = pd.DataFrame(results,columns=['content','liked','retweet'])"
   ]
  },
  {
   "cell_type": "code",
   "execution_count": 8,
   "metadata": {},
   "outputs": [
    {
     "data": {
      "text/html": [
       "<div>\n",
       "<style scoped>\n",
       "    .dataframe tbody tr th:only-of-type {\n",
       "        vertical-align: middle;\n",
       "    }\n",
       "\n",
       "    .dataframe tbody tr th {\n",
       "        vertical-align: top;\n",
       "    }\n",
       "\n",
       "    .dataframe thead th {\n",
       "        text-align: right;\n",
       "    }\n",
       "</style>\n",
       "<table border=\"1\" class=\"dataframe\">\n",
       "  <thead>\n",
       "    <tr style=\"text-align: right;\">\n",
       "      <th></th>\n",
       "      <th>content</th>\n",
       "      <th>liked</th>\n",
       "      <th>retweet</th>\n",
       "    </tr>\n",
       "  </thead>\n",
       "  <tbody>\n",
       "    <tr>\n",
       "      <th>0</th>\n",
       "      <td>The keynote talk by @isbellHFh on algorithmic ...</td>\n",
       "      <td>1</td>\n",
       "      <td>0</td>\n",
       "    </tr>\n",
       "    <tr>\n",
       "      <th>1</th>\n",
       "      <td>RT @McQubit: Representation, Big Data, and alg...</td>\n",
       "      <td>0</td>\n",
       "      <td>6</td>\n",
       "    </tr>\n",
       "    <tr>\n",
       "      <th>2</th>\n",
       "      <td>\"It's a very lively, interesting and fun docum...</td>\n",
       "      <td>0</td>\n",
       "      <td>0</td>\n",
       "    </tr>\n",
       "    <tr>\n",
       "      <th>3</th>\n",
       "      <td>RT @McQubit: Representation, Big Data, and alg...</td>\n",
       "      <td>0</td>\n",
       "      <td>6</td>\n",
       "    </tr>\n",
       "    <tr>\n",
       "      <th>4</th>\n",
       "      <td>RT @McQubit: Representation, Big Data, and alg...</td>\n",
       "      <td>0</td>\n",
       "      <td>6</td>\n",
       "    </tr>\n",
       "    <tr>\n",
       "      <th>...</th>\n",
       "      <td>...</td>\n",
       "      <td>...</td>\n",
       "      <td>...</td>\n",
       "    </tr>\n",
       "    <tr>\n",
       "      <th>60823</th>\n",
       "      <td>@GoodMusic98 @kaleel_4real So everything Hitle...</td>\n",
       "      <td>78</td>\n",
       "      <td>3</td>\n",
       "    </tr>\n",
       "    <tr>\n",
       "      <th>60824</th>\n",
       "      <td>RT @TerryDieHeiden: I read that Alan, the lawy...</td>\n",
       "      <td>0</td>\n",
       "      <td>218</td>\n",
       "    </tr>\n",
       "    <tr>\n",
       "      <th>60825</th>\n",
       "      <td>RT @DevInTheLab: Here’s the format for our 1v1...</td>\n",
       "      <td>0</td>\n",
       "      <td>25</td>\n",
       "    </tr>\n",
       "    <tr>\n",
       "      <th>60826</th>\n",
       "      <td>RT @sarahcpr: If Twitter can slap a warning on...</td>\n",
       "      <td>0</td>\n",
       "      <td>22916</td>\n",
       "    </tr>\n",
       "    <tr>\n",
       "      <th>60827</th>\n",
       "      <td>@KeithGrant09 @realDonaldTrump BEWARE OF FALSE...</td>\n",
       "      <td>0</td>\n",
       "      <td>0</td>\n",
       "    </tr>\n",
       "  </tbody>\n",
       "</table>\n",
       "<p>60828 rows × 3 columns</p>\n",
       "</div>"
      ],
      "text/plain": [
       "                                                 content  liked  retweet\n",
       "0      The keynote talk by @isbellHFh on algorithmic ...      1        0\n",
       "1      RT @McQubit: Representation, Big Data, and alg...      0        6\n",
       "2      \"It's a very lively, interesting and fun docum...      0        0\n",
       "3      RT @McQubit: Representation, Big Data, and alg...      0        6\n",
       "4      RT @McQubit: Representation, Big Data, and alg...      0        6\n",
       "...                                                  ...    ...      ...\n",
       "60823  @GoodMusic98 @kaleel_4real So everything Hitle...     78        3\n",
       "60824  RT @TerryDieHeiden: I read that Alan, the lawy...      0      218\n",
       "60825  RT @DevInTheLab: Here’s the format for our 1v1...      0       25\n",
       "60826  RT @sarahcpr: If Twitter can slap a warning on...      0    22916\n",
       "60827  @KeithGrant09 @realDonaldTrump BEWARE OF FALSE...      0        0\n",
       "\n",
       "[60828 rows x 3 columns]"
      ]
     },
     "execution_count": 8,
     "metadata": {},
     "output_type": "execute_result"
    }
   ],
   "source": [
    "df"
   ]
  },
  {
   "cell_type": "code",
   "execution_count": 9,
   "metadata": {},
   "outputs": [],
   "source": [
    "df = df[['content']]"
   ]
  },
  {
   "cell_type": "code",
   "execution_count": 10,
   "metadata": {},
   "outputs": [],
   "source": [
    "df = df.drop_duplicates()"
   ]
  },
  {
   "cell_type": "code",
   "execution_count": 11,
   "metadata": {},
   "outputs": [],
   "source": [
    "df.reset_index(drop=True,inplace=True)"
   ]
  },
  {
   "cell_type": "code",
   "execution_count": 12,
   "metadata": {},
   "outputs": [
    {
     "data": {
      "text/html": [
       "<div>\n",
       "<style scoped>\n",
       "    .dataframe tbody tr th:only-of-type {\n",
       "        vertical-align: middle;\n",
       "    }\n",
       "\n",
       "    .dataframe tbody tr th {\n",
       "        vertical-align: top;\n",
       "    }\n",
       "\n",
       "    .dataframe thead th {\n",
       "        text-align: right;\n",
       "    }\n",
       "</style>\n",
       "<table border=\"1\" class=\"dataframe\">\n",
       "  <thead>\n",
       "    <tr style=\"text-align: right;\">\n",
       "      <th></th>\n",
       "      <th>content</th>\n",
       "    </tr>\n",
       "  </thead>\n",
       "  <tbody>\n",
       "    <tr>\n",
       "      <th>0</th>\n",
       "      <td>The keynote talk by @isbellHFh on algorithmic ...</td>\n",
       "    </tr>\n",
       "    <tr>\n",
       "      <th>1</th>\n",
       "      <td>RT @McQubit: Representation, Big Data, and alg...</td>\n",
       "    </tr>\n",
       "    <tr>\n",
       "      <th>2</th>\n",
       "      <td>\"It's a very lively, interesting and fun docum...</td>\n",
       "    </tr>\n",
       "    <tr>\n",
       "      <th>3</th>\n",
       "      <td>Representation, Big Data, and algorithmic bias...</td>\n",
       "    </tr>\n",
       "    <tr>\n",
       "      <th>4</th>\n",
       "      <td>RT @BasicScienceSav: I'm working with one of t...</td>\n",
       "    </tr>\n",
       "    <tr>\n",
       "      <th>...</th>\n",
       "      <td>...</td>\n",
       "    </tr>\n",
       "    <tr>\n",
       "      <th>34992</th>\n",
       "      <td>Veterinary friends... come for the Aqueduct, s...</td>\n",
       "    </tr>\n",
       "    <tr>\n",
       "      <th>34993</th>\n",
       "      <td>Amnesty International: FREE KENNETH REAMS! He'...</td>\n",
       "    </tr>\n",
       "    <tr>\n",
       "      <th>34994</th>\n",
       "      <td>@Vlmatheny1 @realDonaldTrump Have you been lis...</td>\n",
       "    </tr>\n",
       "    <tr>\n",
       "      <th>34995</th>\n",
       "      <td>@GoodMusic98 @kaleel_4real So everything Hitle...</td>\n",
       "    </tr>\n",
       "    <tr>\n",
       "      <th>34996</th>\n",
       "      <td>@KeithGrant09 @realDonaldTrump BEWARE OF FALSE...</td>\n",
       "    </tr>\n",
       "  </tbody>\n",
       "</table>\n",
       "<p>34997 rows × 1 columns</p>\n",
       "</div>"
      ],
      "text/plain": [
       "                                                 content\n",
       "0      The keynote talk by @isbellHFh on algorithmic ...\n",
       "1      RT @McQubit: Representation, Big Data, and alg...\n",
       "2      \"It's a very lively, interesting and fun docum...\n",
       "3      Representation, Big Data, and algorithmic bias...\n",
       "4      RT @BasicScienceSav: I'm working with one of t...\n",
       "...                                                  ...\n",
       "34992  Veterinary friends... come for the Aqueduct, s...\n",
       "34993  Amnesty International: FREE KENNETH REAMS! He'...\n",
       "34994  @Vlmatheny1 @realDonaldTrump Have you been lis...\n",
       "34995  @GoodMusic98 @kaleel_4real So everything Hitle...\n",
       "34996  @KeithGrant09 @realDonaldTrump BEWARE OF FALSE...\n",
       "\n",
       "[34997 rows x 1 columns]"
      ]
     },
     "execution_count": 12,
     "metadata": {},
     "output_type": "execute_result"
    }
   ],
   "source": [
    "df"
   ]
  },
  {
   "cell_type": "code",
   "execution_count": 13,
   "metadata": {},
   "outputs": [],
   "source": [
    "df.to_csv('Group2_tweets.csv')"
   ]
  },
  {
   "cell_type": "code",
   "execution_count": null,
   "metadata": {},
   "outputs": [],
   "source": []
  }
 ],
 "metadata": {
  "kernelspec": {
   "display_name": "Python 3",
   "language": "python",
   "name": "python3"
  },
  "language_info": {
   "codemirror_mode": {
    "name": "ipython",
    "version": 3
   },
   "file_extension": ".py",
   "mimetype": "text/x-python",
   "name": "python",
   "nbconvert_exporter": "python",
   "pygments_lexer": "ipython3",
   "version": "3.8.5"
  }
 },
 "nbformat": 4,
 "nbformat_minor": 4
}
